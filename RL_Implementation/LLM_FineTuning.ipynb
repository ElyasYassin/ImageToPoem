{
 "cells": [
  {
   "cell_type": "code",
   "execution_count": null,
   "metadata": {},
   "outputs": [],
   "source": []
  },
  {
   "cell_type": "markdown",
   "metadata": {},
   "source": [
    "<H1> Fine-Tuning a LLM for Haiku Structure </H1>\n",
    "\n",
    "- The model will generate haiku drafts based on free verse poems (Reduce the number of RL iterations needed by starting with a partially structured haiku rather than raw free verse) <br>\n",
    "- \n",
    "- Evaluation: <br>\n",
    "    - We want the model to produce a certain percentage of correctness when evaluated on Haiku structure (3 lines - 5/7/5 syllable scheme)\n",
    "\n",
    "- Our goal:\n",
    "    - Will we see a higher percentage when we apply prompter/detector structure?"
   ]
  },
  {
   "cell_type": "markdown",
   "metadata": {},
   "source": []
  }
 ],
 "metadata": {
  "language_info": {
   "name": "python"
  }
 },
 "nbformat": 4,
 "nbformat_minor": 2
}
