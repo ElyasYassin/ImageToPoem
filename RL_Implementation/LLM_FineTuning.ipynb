{
 "cells": [
  {
   "cell_type": "markdown",
   "metadata": {},
   "source": [
    "Image Analysis:\n",
    "\n",
    "    Object detection: Identify key objects in the image (e.g., \"tree\", \"bird\", \"sun\").\n",
    "    Scene recognition: Understand the broader scene (e.g., \"sunset over the ocean\").\n",
    "    Sentiment analysis: Derive the emotional tone of the image (e.g., \"calm\", \"serene\").\n",
    "\n",
    "Prompter:\n",
    "\n",
    "    Use a pre-trained GPT-2 or GPT-3 (or T5) model with prompt engineering to generate a haiku based on the extracted image features (objects, scene, sentiment).\n",
    "\n",
    "Detector:\n",
    "\n",
    "    Check whether the haiku generated adheres to the 5-7-5 syllable structure.\n",
    "    Evaluate whether the emotional tone and meaning match the original image features.\n",
    "\n",
    "Reinforcement Learning (RL):\n",
    "\n",
    "    Use PPO (Proximal Policy Optimization) or any other RL algorithm to optimize the prompt and reward the haiku generation process based on structural and thematic correctness."
   ]
  },
  {
   "cell_type": "markdown",
   "metadata": {},
   "source": [
    "<H1> Fine-Tuning LLM for Haiku Structure </H1>\n",
    "https://github.com/davanstrien/haiku-dpo <br>\n",
    "https://github.com/glakshay/Generating-Haiku-using-GAN/tree/master/dataset\n"
   ]
  },
  {
   "cell_type": "markdown",
   "metadata": {},
   "source": [
    "<h2> Prompter "
   ]
  },
  {
   "cell_type": "code",
   "execution_count": null,
   "metadata": {},
   "outputs": [],
   "source": [
    "from transformers import GPT2LMHeadModel, GPT2Tokenizer\n",
    "\n",
    "# Load pre-trained fine-tuned GPT-2 model and tokenizer\n",
    "model = GPT2LMHeadModel.from_pretrained(\"gpt2_finetuned_haiku\")\n",
    "tokenizer = GPT2Tokenizer.from_pretrained(\"gpt2_finetuned_haiku\")\n",
    "\n",
    "def generate_haiku_from_image(scene, sentiment, objects, model, tokenizer):\n",
    "    prompt = f\"Generate a haiku based on the scene: {scene}. The detected objects are {', '.join(objects)}. The emotional tone is {sentiment}.\"\n",
    "    \n",
    "    # Tokenize and generate haiku\n",
    "    inputs = tokenizer.encode(prompt, return_tensors='pt')\n",
    "    outputs = model.generate(inputs, max_length=50, num_return_sequences=1, temperature=0.7, top_k=50)\n",
    "    \n",
    "    haiku = tokenizer.decode(outputs[0], skip_special_tokens=True)\n",
    "    return haiku\n",
    "\n",
    "# Example usage\n",
    "scene = \"sunset over the ocean\"\n",
    "sentiment = \"calm and peaceful\"\n",
    "objects = [\"tree\", \"bird\", \"sun\"]\n",
    "\n",
    "haiku = generate_haiku_from_image(scene, sentiment, objects, model, tokenizer)\n",
    "print(\"Generated Haiku:\", haiku)\n"
   ]
  },
  {
   "cell_type": "markdown",
   "metadata": {},
   "source": [
    "<h2> Detector "
   ]
  },
  {
   "cell_type": "code",
   "execution_count": null,
   "metadata": {},
   "outputs": [],
   "source": [
    "import syllapy\n",
    "\n",
    "# Reward function based on syllable accuracy and emotional tone consistency\n",
    "def reward_function(poem_lines, sentiment, scene, objects, haiku, target_syllables=[5, 7, 5]):\n",
    "    reward = 0\n",
    "\n",
    "    # Syllable count reward\n",
    "    syllable_violations = detect_syllable_violations(poem_lines, target_syllables)\n",
    "    reward -= len(syllable_violations)  # Penalize for violations\n",
    "\n",
    "    # Emotion check (e.g., match sentiment)\n",
    "    if evaluate_emotion(haiku, sentiment[0]['label']):\n",
    "        reward += 1  # Reward for matching emotion\n",
    "\n",
    "    # Object consistency (check if key objects are referenced in the haiku)\n",
    "    for obj in objects:\n",
    "        if obj.lower() in haiku.lower():\n",
    "            reward += 0.5  # Reward for using detected objects\n",
    "\n",
    "    return reward\n"
   ]
  },
  {
   "cell_type": "markdown",
   "metadata": {},
   "source": [
    "<h2> RL PPO </h2>"
   ]
  },
  {
   "cell_type": "code",
   "execution_count": null,
   "metadata": {},
   "outputs": [],
   "source": [
    "from stable_baselines3 import PPO\n",
    "import gym\n",
    "\n",
    "class HaikuEnv(gym.Env):\n",
    "    def __init__(self, model, tokenizer, scene, sentiment, objects):\n",
    "        super(HaikuEnv, self).__init__()\n",
    "        self.model = model\n",
    "        self.tokenizer = tokenizer\n",
    "        self.scene = scene\n",
    "        self.sentiment = sentiment\n",
    "        self.objects = objects\n",
    "        self.generated_text = \"\"\n",
    "        self.step_count = 0\n",
    "\n",
    "    def reset(self):\n",
    "        self.generated_text = \"\"\n",
    "        self.step_count = 0\n",
    "        return self.scene\n",
    "\n",
    "    def step(self, action):\n",
    "        # Generate the next word based on action\n",
    "        inputs = self.tokenizer.encode(self.generated_text, return_tensors='pt')\n",
    "        outputs = self.model.generate(inputs, max_length=50, num_return_sequences=1)\n",
    "        generated_text = self.tokenizer.decode(outputs[0], skip_special_tokens=True)\n",
    "        \n",
    "        # Calculate reward based on detector\n",
    "        poem_lines = generated_text.split(\", \")\n",
    "        reward = reward_function(poem_lines, self.sentiment, self.scene, self.objects, generated_text)\n",
    "\n",
    "        self.generated_text = generated_text\n",
    "        self.step_count += 1\n",
    "        done = self.step_count > 3  # Limit to 3 steps (complete haiku)\n",
    "        return generated_text, reward, done, {}\n",
    "\n",
    "# Set up PPO agent\n",
    "env = HaikuEnv(model, tokenizer, scene=\"sunset over the ocean\", sentiment=\"calm\", objects=[\"tree\", \"bird\", \"sun\"])\n",
    "ppo = PPO(\"MlpPolicy\", env, verbose=1)\n",
    "ppo.learn(total_timesteps=10000)\n"
   ]
  }
 ],
 "metadata": {
  "kernelspec": {
   "display_name": ".venv",
   "language": "python",
   "name": "python3"
  },
  "language_info": {
   "codemirror_mode": {
    "name": "ipython",
    "version": 3
   },
   "file_extension": ".py",
   "mimetype": "text/x-python",
   "name": "python",
   "nbconvert_exporter": "python",
   "pygments_lexer": "ipython3",
   "version": "3.11.4"
  }
 },
 "nbformat": 4,
 "nbformat_minor": 2
}
