{
 "cells": [
  {
   "cell_type": "code",
   "execution_count": null,
   "metadata": {},
   "outputs": [],
   "source": [
    "import json\n",
    "import requests\n",
    "from PIL import Image\n",
    "from io import BytesIO\n",
    "import os\n",
    "\n",
    "\n",
    "# Load JSON file\n",
    "with open(\"datasets/multim_poem.json\", \"r\") as f:\n",
    "    data = json.load(f)"
   ]
  },
  {
   "cell_type": "code",
   "execution_count": null,
   "metadata": {},
   "outputs": [],
   "source": [
    "os.makedirs(\"processed_images\", exist_ok=True)\n",
    "\n",
    "valid_data = []  \n",
    "invalid_urls = []  \n",
    "\n",
    "def download_image(url, save_path):\n",
    "    try:\n",
    "        response = requests.get(url, timeout=5)  \n",
    "        response.raise_for_status()  \n",
    "        image = Image.open(BytesIO(response.content))\n",
    "        image.save(save_path)\n",
    "        return True\n",
    "    except Exception as e:\n",
    "        print(f\"Failed to process URL {url}: {e}\")\n",
    "        return False\n",
    "\n",
    "for idx, item in enumerate(data):\n",
    "    url = item[\"image_url\"]\n",
    "    caption = item[\"poem\"]\n",
    "\n",
    "    filename = f\"processed_images/image_{idx}.jpg\"\n",
    "\n",
    "    if download_image(url, filename):\n",
    "        valid_data.append({\"image_path\": filename, \"caption\": caption})\n",
    "    else:\n",
    "        invalid_urls.append(url)\n"
   ]
  },
  {
   "cell_type": "code",
   "execution_count": null,
   "metadata": {},
   "outputs": [],
   "source": [
    "with open(\"processed_data.json\", \"w\") as f:\n",
    "    json.dump(valid_data, f, indent=4)\n",
    "\n",
    "with open(\"invalid_urls.txt\", \"w\") as f:\n",
    "    for url in invalid_urls:\n",
    "        f.write(url + \"\\n\")\n",
    "\n",
    "print(f\"Processed {len(valid_data)} valid entries. {len(invalid_urls)} invalid URLs logged.\")"
   ]
  }
 ],
 "metadata": {
  "kernelspec": {
   "display_name": "Machinelearning",
   "language": "python",
   "name": "python3"
  },
  "language_info": {
   "codemirror_mode": {
    "name": "ipython",
    "version": 3
   },
   "file_extension": ".py",
   "mimetype": "text/x-python",
   "name": "python",
   "nbconvert_exporter": "python",
   "pygments_lexer": "ipython3",
   "version": "3.11.4"
  }
 },
 "nbformat": 4,
 "nbformat_minor": 2
}
